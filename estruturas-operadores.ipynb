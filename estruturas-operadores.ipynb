{
 "cells": [
  {
   "cell_type": "code",
   "execution_count": 4,
   "id": "4d4bba27",
   "metadata": {},
   "outputs": [
    {
     "name": "stdout",
     "output_type": "stream",
     "text": [
      "x is positive\n"
     ]
    }
   ],
   "source": [
    "x = 5\n",
    "if x > 0:\n",
    "    print(\"x is positive\")\n",
    "elif x < 0:\n",
    "    print(\"x is negative\")\n",
    "else:\n",
    "    print(\"x is zero\")\n",
    "# This is a simple if-elif-else statement in Python."
   ]
  },
  {
   "cell_type": "code",
   "execution_count": 2,
   "id": "6a0db153",
   "metadata": {},
   "outputs": [
    {
     "name": "stdout",
     "output_type": "stream",
     "text": [
      "Olá, Maria! Bem-vindo(a) ao Python.\n"
     ]
    }
   ],
   "source": [
    "def saudacao(nome):\n",
    "    \"\"\"\n",
    "    Função que imprime uma saudação personalizada.\n",
    "    \n",
    "    :param nome: Nome da pessoa a ser saudada.\n",
    "    \"\"\"\n",
    "    print(f\"Olá, {nome}! Bem-vindo(a) ao Python.\")\n",
    "  \n",
    "saudacao(\"Maria\")\n",
    "# This function prints a personalized greeting."
   ]
  },
  {
   "cell_type": "code",
   "execution_count": 5,
   "id": "bd295ab8",
   "metadata": {},
   "outputs": [
    {
     "name": "stdout",
     "output_type": "stream",
     "text": [
      "A soma de 10 e 20 é 30.\n",
      "a diferença de 10 e 20 é -10.\n",
      "a multiplicação de 10 e 20 é 200.\n",
      "a divisão de 10 e 20 é 0.5.\n",
      "a divisão inteira de 10 e 20 é 0.\n",
      "o resto da divisão de 10 e 20 é 10.\n",
      "a potência de 10 e 20 é 100000000000000000000.\n"
     ]
    }
   ],
   "source": [
    "x = 10\n",
    "y = 20\n",
    "\n",
    "print (f\"A soma de {x} e {y} é {x + y}.\")\n",
    "print(f'a diferença de {x} e {y} é {x - y}.')\n",
    "print(f'a multiplicação de {x} e {y} é {x * y}.')\n",
    "print(f'a divisão de {x} e {y} é {x / y}.')\n",
    "print(f'a divisão inteira de {x} e {y} é {x // y}.')\n",
    "print(f'o resto da divisão de {x} e {y} é {x % y}.')\n",
    "print(f'a potência de {x} e {y} é {x ** y}.')\n"
   ]
  },
  {
   "cell_type": "code",
   "execution_count": null,
   "id": "20a6eb85",
   "metadata": {},
   "outputs": [
    {
     "name": "stdout",
     "output_type": "stream",
     "text": [
      "Você terá 37 anos em 10 anos.\n"
     ]
    }
   ],
   "source": [
    "idade=int(input(\"Digite sua idade: \"))\n",
    "idade_soma=idade+10\n",
    "\n",
    "print(f\"Você terá {idade_soma} anos em 10 anos.\")"
   ]
  },
  {
   "cell_type": "code",
   "execution_count": null,
   "id": "13d09a6b",
   "metadata": {},
   "outputs": [
    {
     "name": "stdout",
     "output_type": "stream",
     "text": [
      "Você é maior de idade.\n"
     ]
    }
   ],
   "source": [
    "def maior_de_idade(idade):\n",
    "    if idade >= 18:\n",
    "        return True\n",
    "    else:\n",
    "        return False\n",
    "      \n",
    "idade = int(input(\"Digite sua idade: \"))\n",
    "if maior_de_idade(idade):\n",
    "    print(\"Você é maior de idade.\")\n",
    "else:\n",
    "    print(\"Você é menor de idade.\")\n"
   ]
  },
  {
   "cell_type": "code",
   "execution_count": 15,
   "id": "05715abf",
   "metadata": {},
   "outputs": [
    {
     "name": "stdout",
     "output_type": "stream",
     "text": [
      "Você não pode votar.\n"
     ]
    }
   ],
   "source": [
    "def eleitor():\n",
    "    idade = int(input(\"Digite sua idade: \"))\n",
    "    if idade >= 18:\n",
    "        print(\"Você pode votar.\")\n",
    "    elif idade >= 16:\n",
    "        print(\"voto opcional.\")\n",
    "    else:\n",
    "        print(\"Você não pode votar.\")\n",
    "    return\n",
    "eleitor()"
   ]
  },
  {
   "cell_type": "markdown",
   "id": "c7ef900c",
   "metadata": {},
   "source": [
    "falando sobre o laço for\n",
    "# Laço for\n",
    "O laço for é utilizado para iterar sobre uma sequência (como uma lista, tupla ou string) ou um objeto iterável. A sintaxe básica do for é a seguinte:\n",
    "\n",
    "```python\n",
    "for item in sequencia:\n",
    "    # faça algo com item\n",
    "```\n",
    "## Exemplo 1: Iterando sobre uma lista\n",
    "```python\n",
    "numeros = [1, 2, 3, 4, 5]\n",
    "for numero in numeros:\n",
    "    print(numero)\n",
    "```"
   ]
  },
  {
   "cell_type": "code",
   "execution_count": 19,
   "id": "3a4755a7",
   "metadata": {},
   "outputs": [
    {
     "name": "stdout",
     "output_type": "stream",
     "text": [
      "1\n",
      "2\n",
      "3\n",
      "4\n",
      "6\n",
      "7\n",
      "8\n",
      "9\n",
      "10\n"
     ]
    }
   ],
   "source": [
    "for i in range(1, 11):\n",
    "  if i == 5:\n",
    "    continue\n",
    "  print(i)\n",
    "# This loop prints numbers from 1 to 10.\n"
   ]
  }
 ],
 "metadata": {
  "kernelspec": {
   "display_name": "venv",
   "language": "python",
   "name": "python3"
  },
  "language_info": {
   "codemirror_mode": {
    "name": "ipython",
    "version": 3
   },
   "file_extension": ".py",
   "mimetype": "text/x-python",
   "name": "python",
   "nbconvert_exporter": "python",
   "pygments_lexer": "ipython3",
   "version": "3.13.3"
  }
 },
 "nbformat": 4,
 "nbformat_minor": 5
}
