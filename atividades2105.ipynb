{
 "cells": [
  {
   "cell_type": "code",
   "execution_count": null,
   "id": "922f84a3",
   "metadata": {},
   "outputs": [],
   "source": [
    "def saudacao():\n",
    "    print(\"Olá, Mundo!\")\n",
    "\n",
    "\n",
    "def despedida():\n",
    "    print(\"Tchau, Mundo!\")\n",
    "\n",
    "\n",
    "def numeroDoUsuario():\n",
    "    lista = []\n",
    "    while True:\n",
    "        try:\n",
    "            numero = int(input(\"digite um número ou digite 0: \"))\n",
    "            if numero == 0:\n",
    "                print(\"Saindo...\")\n",
    "                break\n",
    "            elif numero < 0:\n",
    "                print(\"Número negativo, tente novamente.\")\n",
    "                continue\n",
    "            elif numero > 100:\n",
    "                print(\"Número maior que 100, tente novamente.\")\n",
    "                continue\n",
    "            lista.append(numero)\n",
    "        except ValueError:\n",
    "            print(\"Por favor, digite um número válido.\")\n",
    "    return lista\n",
    "\n",
    "\n",
    "saudacao()\n",
    "numeros = numeroDoUsuario()\n",
    "print(\"Números digitados:\", numeros)\n",
    "despedida()"
   ]
  },
  {
   "cell_type": "code",
   "execution_count": null,
   "id": "f452f52a",
   "metadata": {},
   "outputs": [],
   "source": [
    "def soma():\n",
    "    valor1 = int(input(\"Digite o primeiro valor: \"))\n",
    "    valor2 = int(input(\"Digite o segundo valor: \"))\n",
    "    resultado_soma = valor1 + valor2\n",
    "    print(\"O resultado da soma é:\", resultado_soma)\n",
    "    return resultado_soma\n",
    "\n",
    "\n",
    "soma()"
   ]
  },
  {
   "cell_type": "code",
   "execution_count": 1,
   "id": "0b16a365",
   "metadata": {},
   "outputs": [
    {
     "name": "stdout",
     "output_type": "stream",
     "text": [
      "A gorjeta é: R$ 5.00\n",
      "O total a pagar é: R$ 55.00\n"
     ]
    },
    {
     "data": {
      "text/plain": [
       "(5.0, 55.0)"
      ]
     },
     "execution_count": 1,
     "metadata": {},
     "output_type": "execute_result"
    }
   ],
   "source": [
    "#calculando a gorjeta do garçom\n",
    "\n",
    "def gorjeta():\n",
    "    valor_conta = float(input(\"Digite o valor da conta: \"))\n",
    "    porcentagem_gorjeta = float(input(\"Digite a porcentagem da gorjeta (ex: 10 para 10%): \"))\n",
    "    gorjeta = (porcentagem_gorjeta / 100) * valor_conta\n",
    "    total = valor_conta + gorjeta\n",
    "    print(f\"A gorjeta é: R$ {gorjeta:.2f}\")\n",
    "    print(f\"O total a pagar é: R$ {total:.2f}\")\n",
    "    return gorjeta, total\n",
    "  \n",
    "gorjeta()\n"
   ]
  },
  {
   "cell_type": "code",
   "execution_count": null,
   "id": "25888299",
   "metadata": {},
   "outputs": [
    {
     "name": "stdout",
     "output_type": "stream",
     "text": [
      "Senha forte!\n"
     ]
    }
   ],
   "source": [
    "def verificar_senha():  # Nome da função mais curto\n",
    "    print(\"-\" * 30)\n",
    "    print(\"Verificador de Senhas\")\n",
    "    print(\"-\" * 30)\n",
    "    print(\"Requisitos:\")\n",
    "    print(\"- A senha deve ter pelo menos 8 caracteres.\")\n",
    "    print(\"- A senha deve conter pelo menos um número.\")\n",
    "    print(\"- A senha deve conter pelo menos uma letra.\")\n",
    "    print(\"-\" * 30)\n",
    "    while True:\n",
    "        pwd = input(\n",
    "            \"Senha (mín. 8c, 1 num, 1 letra) ou 'sair': \"\n",
    "        ).strip()  # 'pwd' é uma abreviação comum para password\n",
    "\n",
    "        if pwd.lower() == \"sair\":\n",
    "            print(\"Programa encerrado.\")\n",
    "            break\n",
    "\n",
    "        # Verificações mais concisas\n",
    "        len_ok = len(pwd) >= 8\n",
    "        tem_num = any(c.isdigit() for c in pwd)  # Verifica se algum caractere é dígito\n",
    "        tem_letra = any(c.isalpha() for c in pwd)  # Verifica se algum caractere é letra\n",
    "\n",
    "        if len_ok and tem_num and tem_letra:\n",
    "            print(\"Senha forte! Senha válida registrada.\")\n",
    "            break\n",
    "        else:\n",
    "            print(\"\\nSenha fraca. Por favor, tente novamente. Requisitos:\")\n",
    "            if not len_ok:\n",
    "                print(\"- A senha deve ter pelo menos 8 caracteres.\")\n",
    "            if not tem_num:\n",
    "                print(\"- A senha deve conter pelo menos um número.\")\n",
    "            if not tem_letra:\n",
    "                print(\"- A senha deve conter pelo menos uma letra.\")\n",
    "            print(\"-\" * 30)\n",
    "\n",
    "# Executa o programa\n",
    "verificar_senha()"
   ]
  }
 ],
 "metadata": {
  "kernelspec": {
   "display_name": "venv",
   "language": "python",
   "name": "python3"
  },
  "language_info": {
   "codemirror_mode": {
    "name": "ipython",
    "version": 3
   },
   "file_extension": ".py",
   "mimetype": "text/x-python",
   "name": "python",
   "nbconvert_exporter": "python",
   "pygments_lexer": "ipython3",
   "version": "3.13.3"
  }
 },
 "nbformat": 4,
 "nbformat_minor": 5
}
