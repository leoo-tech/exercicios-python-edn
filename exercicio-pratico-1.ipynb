{
 "cells": [
  {
   "cell_type": "markdown",
   "id": "55523e52",
   "metadata": {},
   "source": [
    "EXERCÍCIO PRÁTICO 1​\n",
    "\n",
    "Desenvolva uma calculadora em Python que realize as quatro operações básicas (adição, subtração, multiplicação e divisão) entre dois números. A calculadora deve ser capaz de lidar com diversos tipos de erros de entrada e operação. Siga as especificações abaixo:​\n",
    "\n",
    "A calculadora deve solicitar ao usuário que insira dois números e uma operação.​\n",
    "\n",
    "As operações válidas são: + (adição), - (subtração), * (multiplicação) e / (divisão).​\n",
    "\n",
    "O programa deve continuar solicitando entradas até que uma operação válida seja concluída.​\n",
    "\n",
    "Trate os seguintes erros:​\n",
    "\n",
    "Entrada inválida (não numérica) para os números​\n",
    "\n",
    "Divisão por zero​\n",
    "\n",
    "Operação inválida​\n",
    "\n",
    "Use try/except para capturar e tratar os erros apropriadamente.​\n",
    "\n",
    "Após cada erro, o programa deve informar o usuário sobre o erro e solicitar nova entrada.​\n",
    "\n",
    "Quando uma operação é concluída com sucesso, exiba o resultado e encerre o programa.​\n"
   ]
  },
  {
   "cell_type": "code",
   "execution_count": 2,
   "id": "2ce20fda",
   "metadata": {},
   "outputs": [
    {
     "name": "stdout",
     "output_type": "stream",
     "text": [
      "O resultado de 20 * 4 é: 80\n"
     ]
    }
   ],
   "source": [
    "def calculadora():\n",
    "    while True:\n",
    "        try:\n",
    "            num1 = int(input(\"Digite o primeiro número: \"))\n",
    "            num2 = int(input(\"Digite o segundo número: \"))\n",
    "            operacao = input(\"Digite a operação (+, -, *, /): \")\n",
    "\n",
    "            if operacao == '+':\n",
    "                resultado = num1 + num2\n",
    "            elif operacao == '-':\n",
    "                resultado = num1 - num2\n",
    "            elif operacao == '*':\n",
    "                resultado = num1 * num2\n",
    "            elif operacao == '/':\n",
    "                if num2 == 0:\n",
    "                    raise ZeroDivisionError(\"Divisão por zero não é permitida.\")\n",
    "                resultado = num1 / num2\n",
    "            else:\n",
    "                raise ValueError(\"Operação inválida.\")\n",
    "\n",
    "            print(f\"O resultado de {num1} {operacao} {num2} é: {resultado}\")\n",
    "            break\n",
    "\n",
    "        except ValueError as ve:\n",
    "            print(f\"Erro: {ve}. Tente novamente.\")\n",
    "        except ZeroDivisionError as zde:\n",
    "            print(f\"Erro: {zde}. Tente novamente.\")\n",
    "        except Exception as e:\n",
    "            print(f\"Erro inesperado: {e}. Tente novamente.\")\n",
    "\n",
    "calculadora()"
   ]
  }
 ],
 "metadata": {
  "kernelspec": {
   "display_name": "venv",
   "language": "python",
   "name": "python3"
  },
  "language_info": {
   "codemirror_mode": {
    "name": "ipython",
    "version": 3
   },
   "file_extension": ".py",
   "mimetype": "text/x-python",
   "name": "python",
   "nbconvert_exporter": "python",
   "pygments_lexer": "ipython3",
   "version": "3.13.3"
  }
 },
 "nbformat": 4,
 "nbformat_minor": 5
}
